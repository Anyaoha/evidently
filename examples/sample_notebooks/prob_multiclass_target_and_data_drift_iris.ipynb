{
  "nbformat": 4,
  "nbformat_minor": 0,
  "metadata": {
    "colab": {
      "name": "prob_multiclass_target_and_data_drift_iris.ipynb",
      "provenance": [],
      "collapsed_sections": [
        "NpFUgzSkFEHP"
      ]
    },
    "kernelspec": {
      "name": "python3",
      "display_name": "Python 3"
    },
    "language_info": {
      "name": "python"
    }
  },
  "cells": [
    {
      "cell_type": "code",
      "source": [
        "import pandas as pd\n",
        "import numpy as np\n",
        "\n",
        "from sklearn import datasets, model_selection, linear_model\n",
        "\n",
        "from evidently.dashboard import Dashboard\n",
        "from evidently.pipeline.column_mapping import ColumnMapping\n",
        "from evidently.dashboard.tabs import DataDriftTab, CatTargetDriftTab\n",
        "\n",
        "from evidently.model_profile import Profile\n",
        "from evidently.model_profile.sections import DataDriftProfileSection, CatTargetDriftProfileSection "
      ],
      "metadata": {
        "id": "Z8qici6GDXLv"
      },
      "execution_count": null,
      "outputs": []
    },
    {
      "cell_type": "markdown",
      "source": [
        "# Load data"
      ],
      "metadata": {
        "id": "SGr7Dq7eDnWh"
      }
    },
    {
      "cell_type": "code",
      "source": [
        "iris = datasets.load_iris()\n",
        "iris_frame = pd.DataFrame(iris.data, columns = iris.feature_names)\n",
        "iris_frame['target'] = iris.target"
      ],
      "metadata": {
        "id": "u_5LLo7KDXY-"
      },
      "execution_count": null,
      "outputs": []
    },
    {
      "cell_type": "markdown",
      "source": [
        "# Get Predictions"
      ],
      "metadata": {
        "id": "jLpWmyJmD08n"
      }
    },
    {
      "cell_type": "code",
      "source": [
        "train_data, test_data = model_selection.train_test_split(iris_frame, random_state=0)\n",
        "\n",
        "target = 'target'\n",
        "prediction = 'prediction'\n",
        "numerical_features = iris.feature_names\n",
        "categorical_features = []\n",
        "features = numerical_features + categorical_features"
      ],
      "metadata": {
        "id": "I5sOGW3WD61X"
      },
      "execution_count": null,
      "outputs": []
    },
    {
      "cell_type": "code",
      "source": [
        "model = linear_model.LogisticRegression()\n",
        "model.fit(train_data[features], train_data.target)\n",
        "\n",
        "# make a data frame with predictions for each class\n",
        "\n",
        "train_probas = pd.DataFrame(model.predict_proba(train_data[features]))\n",
        "train_probas.columns = iris.target_names\n",
        "\n",
        "test_probas = pd.DataFrame(model.predict_proba(test_data[features]))\n",
        "test_probas.columns = iris.target_names"
      ],
      "metadata": {
        "id": "YC8NlfpyEJaY"
      },
      "execution_count": null,
      "outputs": []
    },
    {
      "cell_type": "code",
      "source": [
        "# get labels for target: [0, 1, 0, 2] -> ['setosa', 'versicolor', 'setosa', 'virginica']\n",
        "\n",
        "train_data['target'] = [iris.target_names[x] for x in train_data['target']]\n",
        "test_data['target'] = [iris.target_names[x] for x in test_data['target']]"
      ],
      "metadata": {
        "id": "BDSkUCrYERgV"
      },
      "execution_count": null,
      "outputs": []
    },
    {
      "cell_type": "code",
      "source": [
        "# merge train and test data with predictions\n",
        "\n",
        "train_data.reset_index(inplace=True, drop=True)\n",
        "test_data.reset_index(inplace=True, drop=True)\n",
        "\n",
        "merged_train_data = pd.concat([train_data, train_probas], axis=1)\n",
        "merged_test_data = pd.concat([test_data, test_probas], axis=1)"
      ],
      "metadata": {
        "id": "Oa-EnfOnEU_m"
      },
      "execution_count": null,
      "outputs": []
    },
    {
      "cell_type": "code",
      "source": [
        "merged_train_data.head()"
      ],
      "metadata": {
        "id": "rAAdXskyEX7K"
      },
      "execution_count": null,
      "outputs": []
    },
    {
      "cell_type": "code",
      "source": [
        "iris_column_mapping = ColumnMapping()\n",
        "\n",
        "iris_column_mapping.target = 'target'\n",
        "iris_column_mapping.prediction = iris.target_names.tolist()\n",
        "iris_column_mapping.numerical_features = iris.feature_names"
      ],
      "metadata": {
        "id": "BCDXEJ9BEVDg"
      },
      "execution_count": null,
      "outputs": []
    },
    {
      "cell_type": "markdown",
      "source": [
        "# Target Drift Dashboard full (verbose_level=1)"
      ],
      "metadata": {
        "id": "NpFUgzSkFEHP"
      }
    },
    {
      "cell_type": "code",
      "source": [
        "iris_prob_classification_dashboard = Dashboard(tabs=[CatTargetDriftTab(verbose_level=1)])\n",
        "iris_prob_classification_dashboard.calculate(merged_train_data, merged_test_data, \n",
        "                                             column_mapping = iris_column_mapping)\n",
        "iris_prob_classification_dashboard.show()"
      ],
      "metadata": {
        "id": "vzL9ydGlFMUo"
      },
      "execution_count": null,
      "outputs": []
    },
    {
      "cell_type": "markdown",
      "source": [
        "# Target Drift Dashboard short (verbose_level=0)"
      ],
      "metadata": {
        "id": "YaBuHAw_FWbB"
      }
    },
    {
      "cell_type": "code",
      "source": [
        "iris_prob_classification_dashboard = Dashboard(tabs=[CatTargetDriftTab(verbose_level=0)])\n",
        "iris_prob_classification_dashboard.calculate(merged_train_data, merged_test_data, \n",
        "                                             column_mapping = iris_column_mapping)\n",
        "iris_prob_classification_dashboard.show()"
      ],
      "metadata": {
        "id": "pNiuH0SIFX7Q"
      },
      "execution_count": null,
      "outputs": []
    },
    {
      "cell_type": "markdown",
      "source": [
        "# Data Drift Dashboard"
      ],
      "metadata": {
        "id": "siUK1jJ7Ff4w"
      }
    },
    {
      "cell_type": "code",
      "source": [
        "iris_prob_classification_dashboard = Dashboard(tabs=[DataDriftTab()])\n",
        "iris_prob_classification_dashboard.calculate(merged_train_data, merged_test_data, \n",
        "                                             column_mapping = iris_column_mapping)\n",
        "iris_prob_classification_dashboard.show()"
      ],
      "metadata": {
        "id": "ukvLutgQFhA3"
      },
      "execution_count": null,
      "outputs": []
    },
    {
      "cell_type": "markdown",
      "source": [
        "# Target and Data Drift Dashboard"
      ],
      "metadata": {
        "id": "T97lwAPuFs8W"
      }
    },
    {
      "cell_type": "code",
      "source": [
        "iris_data_and_target_drift_dashboard = Dashboard(tabs=[DataDriftTab(verbose_level=0), \n",
        "                                                       CatTargetDriftTab()])\n",
        "iris_data_and_target_drift_dashboard.calculate(merged_train_data, merged_test_data, column_mapping=iris_column_mapping)\n",
        "iris_data_and_target_drift_dashboard.show()"
      ],
      "metadata": {
        "id": "qL1lfxj4Fuxe"
      },
      "execution_count": null,
      "outputs": []
    },
    {
      "cell_type": "markdown",
      "source": [
        "# Profiles"
      ],
      "metadata": {
        "id": "9S3OXpPaFoPT"
      }
    },
    {
      "cell_type": "markdown",
      "source": [
        "## Target Drift Profile"
      ],
      "metadata": {
        "id": "wol62xRnGAp1"
      }
    },
    {
      "cell_type": "code",
      "source": [
        "iris_target_drift_profile = Profile(sections=[CatTargetDriftProfileSection()])\n",
        "iris_target_drift_profile.calculate(merged_train_data, merged_test_data, column_mapping=iris_column_mapping) \n",
        "iris_target_drift_profile.json()"
      ],
      "metadata": {
        "id": "t69oXpDGFpSw"
      },
      "execution_count": null,
      "outputs": []
    },
    {
      "cell_type": "markdown",
      "source": [
        "## Data Drift Profile"
      ],
      "metadata": {
        "id": "EkO4Uf6eGLOU"
      }
    },
    {
      "cell_type": "code",
      "source": [
        "iris_target_drift_profile = Profile(sections=[DataDriftProfileSection()])\n",
        "iris_target_drift_profile.calculate(merged_train_data, merged_test_data, column_mapping=iris_column_mapping) \n",
        "iris_target_drift_profile.json()"
      ],
      "metadata": {
        "id": "U8P1BYUUGOLx"
      },
      "execution_count": null,
      "outputs": []
    },
    {
      "cell_type": "markdown",
      "source": [
        "## Target and Data Drift Profile"
      ],
      "metadata": {
        "id": "o_-nAZddGUqo"
      }
    },
    {
      "cell_type": "code",
      "source": [
        "iris_target_and_data_drift_profile = Profile(sections=[DataDriftProfileSection(), CatTargetDriftProfileSection()])\n",
        "iris_target_and_data_drift_profile.calculate(merged_train_data, merged_test_data, column_mapping=iris_column_mapping) \n",
        "iris_target_and_data_drift_profile.json()"
      ],
      "metadata": {
        "id": "0_HMXzw-GZz1"
      },
      "execution_count": null,
      "outputs": []
    },
    {
      "cell_type": "code",
      "source": [
        ""
      ],
      "metadata": {
        "id": "5ql0uRZxIODY"
      },
      "execution_count": null,
      "outputs": []
    }
  ]
}