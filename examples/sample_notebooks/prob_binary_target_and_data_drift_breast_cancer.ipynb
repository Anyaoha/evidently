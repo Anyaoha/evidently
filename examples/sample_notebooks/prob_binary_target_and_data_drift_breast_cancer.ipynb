{
  "nbformat": 4,
  "nbformat_minor": 0,
  "metadata": {
    "colab": {
      "name": "prob_binary_target_and_data_drift_breast_cancer.ipynb",
      "provenance": [],
      "collapsed_sections": []
    },
    "kernelspec": {
      "name": "python3",
      "display_name": "Python 3"
    },
    "language_info": {
      "name": "python"
    }
  },
  "cells": [
    {
      "cell_type": "code",
      "source": [
        "import pandas as pd\n",
        "import numpy as np\n",
        "\n",
        "from sklearn import datasets, ensemble, model_selection\n",
        "\n",
        "from evidently.dashboard import Dashboard\n",
        "from evidently.pipeline.column_mapping import ColumnMapping\n",
        "from evidently.dashboard.tabs import DataDriftTab, CatTargetDriftTab\n",
        "\n",
        "from evidently.model_profile import Profile\n",
        "from evidently.model_profile.sections import DataDriftProfileSection, CatTargetDriftProfileSection "
      ],
      "metadata": {
        "id": "eprrWB5hI7UM"
      },
      "execution_count": null,
      "outputs": []
    },
    {
      "cell_type": "markdown",
      "source": [
        "# Load data"
      ],
      "metadata": {
        "id": "IRw1mt7gI1aw"
      }
    },
    {
      "cell_type": "code",
      "source": [
        "bcancer = datasets.load_breast_cancer()\n",
        "bcancer_frame = pd.DataFrame(bcancer.data, columns = bcancer.feature_names)\n",
        "bcancer_frame['target'] = bcancer.target\n",
        "\n",
        "target = 'target'\n",
        "prediction = 'prediction'\n",
        "numerical_features = bcancer.feature_names\n",
        "categorical_features = []\n",
        "features = numerical_features.tolist() + categorical_features"
      ],
      "metadata": {
        "id": "P03q4s7TI6Xy"
      },
      "execution_count": null,
      "outputs": []
    },
    {
      "cell_type": "markdown",
      "source": [
        "# Get Predictions"
      ],
      "metadata": {
        "id": "UP6VbW36Jcko"
      }
    },
    {
      "cell_type": "code",
      "source": [
        "train_data, test_data = model_selection.train_test_split(bcancer_frame, random_state=0)\n",
        "model = ensemble.RandomForestClassifier(random_state=0)\n",
        "model.fit(train_data[features], train_data.target)"
      ],
      "metadata": {
        "id": "30yQ_dLRJiMK"
      },
      "execution_count": null,
      "outputs": []
    },
    {
      "cell_type": "code",
      "source": [
        "# make a data frame with predictions for each class\n",
        "train_probas = pd.DataFrame(model.predict_proba(train_data[features]))\n",
        "train_probas.columns = bcancer.target_names\n",
        "test_probas = pd.DataFrame(model.predict_proba(test_data[features]))\n",
        "test_probas.columns = bcancer.target_names"
      ],
      "metadata": {
        "id": "_sx1_2AIJrLO"
      },
      "execution_count": null,
      "outputs": []
    },
    {
      "cell_type": "code",
      "source": [
        "# get labels for target: [0, 1, 0, 2] -> ['setosa', 'versicolor', 'setosa', 'virginica']\n",
        "train_data['target'] = [bcancer.target_names[x] for x in train_data['target']]\n",
        "test_data['target'] = [bcancer.target_names[x] for x in test_data['target']]"
      ],
      "metadata": {
        "id": "moOkAFWPJzkx"
      },
      "execution_count": null,
      "outputs": []
    },
    {
      "cell_type": "code",
      "source": [
        "# merge train and test data with predictions\n",
        "train_data.reset_index(inplace=True, drop=True)\n",
        "test_data.reset_index(inplace=True, drop=True)\n",
        "\n",
        "merged_train_data = pd.concat([train_data, train_probas], axis=1)\n",
        "merged_test_data = pd.concat([test_data, test_probas], axis=1)"
      ],
      "metadata": {
        "id": "xq70Oh0YJ267"
      },
      "execution_count": null,
      "outputs": []
    },
    {
      "cell_type": "code",
      "source": [
        "merged_train_data.head()"
      ],
      "metadata": {
        "id": "sW87FL51J9IO"
      },
      "execution_count": null,
      "outputs": []
    },
    {
      "cell_type": "code",
      "source": [
        "bcancer_column_mapping = ColumnMapping()\n",
        "\n",
        "bcancer_column_mapping.target = target\n",
        "bcancer_column_mapping.prediction = bcancer.target_names.tolist()\n",
        "bcancer_column_mapping.numerical_features = numerical_features"
      ],
      "metadata": {
        "id": "AihTNgsWKDhs"
      },
      "execution_count": null,
      "outputs": []
    },
    {
      "cell_type": "markdown",
      "source": [
        "# Target Drift Dashboard full (verbose_level=1)"
      ],
      "metadata": {
        "id": "tvw_NoVWKEDi"
      }
    },
    {
      "cell_type": "code",
      "source": [
        "bcancer_model_performance_dashboard = Dashboard(tabs=[CatTargetDriftTab(verbose_level=1)])\n",
        "bcancer_model_performance_dashboard.calculate(merged_train_data, merged_test_data, \n",
        "                                              column_mapping = bcancer_column_mapping)\n",
        "bcancer_model_performance_dashboard.show()"
      ],
      "metadata": {
        "id": "pqR9xOntKJT2"
      },
      "execution_count": null,
      "outputs": []
    },
    {
      "cell_type": "markdown",
      "source": [
        "# Target Drift Dashboard short (verbose_level=0)"
      ],
      "metadata": {
        "id": "V3_bO0exKOff"
      }
    },
    {
      "cell_type": "code",
      "source": [
        "bcancer_model_performance_dashboard = Dashboard(tabs=[CatTargetDriftTab(verbose_level=0)])\n",
        "bcancer_model_performance_dashboard.calculate(merged_train_data, merged_test_data, \n",
        "                                              column_mapping = bcancer_column_mapping)\n",
        "bcancer_model_performance_dashboard.show()"
      ],
      "metadata": {
        "id": "Zbw6ePR9KRKL"
      },
      "execution_count": null,
      "outputs": []
    },
    {
      "cell_type": "markdown",
      "source": [
        "# Target Drift Dashboard full with threshold options"
      ],
      "metadata": {
        "id": "7U3dXrFcKUTS"
      }
    },
    {
      "cell_type": "code",
      "source": [
        "from evidently.options import QualityMetricsOptions\n",
        "\n",
        "m_options = QualityMetricsOptions(classification_threshold = 0.8)\n",
        "\n",
        "bcancer_target_drift_dashboard = Dashboard(tabs=[CatTargetDriftTab(verbose_level=1)], options=[m_options])\n",
        "bcancer_target_drift_dashboard.calculate(merged_train_data, merged_test_data, \n",
        "                                         column_mapping=bcancer_column_mapping)\n",
        "bcancer_target_drift_dashboard.show()"
      ],
      "metadata": {
        "id": "cy_BWvInKgRl"
      },
      "execution_count": null,
      "outputs": []
    },
    {
      "cell_type": "markdown",
      "source": [
        "# Data Drift Dashboard"
      ],
      "metadata": {
        "id": "dNkV7TIQKmsN"
      }
    },
    {
      "cell_type": "code",
      "source": [
        "bcancer_model_performance_dashboard = Dashboard(tabs=[DataDriftTab()])\n",
        "bcancer_model_performance_dashboard.calculate(merged_train_data, merged_test_data, \n",
        "                                              column_mapping = bcancer_column_mapping)\n",
        "bcancer_model_performance_dashboard.show()"
      ],
      "metadata": {
        "id": "rSKM4Yj8KmHo"
      },
      "execution_count": null,
      "outputs": []
    },
    {
      "cell_type": "markdown",
      "source": [
        "# Target and Data Drift Dashboard"
      ],
      "metadata": {
        "id": "AkxWH9BKK3_q"
      }
    },
    {
      "cell_type": "code",
      "source": [
        "bcancer_model_performance_dashboard = Dashboard(tabs=[CatTargetDriftTab(verbose_level=0), DataDriftTab()])\n",
        "bcancer_model_performance_dashboard.calculate(merged_train_data, merged_test_data, \n",
        "                                              column_mapping = bcancer_column_mapping)\n",
        "bcancer_model_performance_dashboard.show()"
      ],
      "metadata": {
        "id": "LZ640THVK56W"
      },
      "execution_count": null,
      "outputs": []
    },
    {
      "cell_type": "markdown",
      "source": [
        "# Profiles"
      ],
      "metadata": {
        "id": "hWHmuWyxK_mr"
      }
    },
    {
      "cell_type": "markdown",
      "source": [
        "## Target Drift Profile"
      ],
      "metadata": {
        "id": "QvWXF6FXLD6M"
      }
    },
    {
      "cell_type": "code",
      "source": [
        "bcancer_target_drift_profile = Profile(sections=[CatTargetDriftProfileSection()], options=[m_options])\n",
        "bcancer_target_drift_profile.calculate(merged_train_data, merged_test_data, column_mapping = bcancer_column_mapping) \n",
        "bcancer_target_drift_profile.json()"
      ],
      "metadata": {
        "id": "6y8nKKooLDIL"
      },
      "execution_count": null,
      "outputs": []
    },
    {
      "cell_type": "markdown",
      "source": [
        "# Target Drift Profile with threshold options"
      ],
      "metadata": {
        "id": "AQ6wY4IMLnJX"
      }
    },
    {
      "cell_type": "code",
      "source": [
        "bcancer_target_drift_profile = Profile(sections=[CatTargetDriftProfileSection()])\n",
        "bcancer_target_drift_profile.calculate(merged_train_data, merged_test_data, column_mapping = bcancer_column_mapping) \n",
        "bcancer_target_drift_profile.json()"
      ],
      "metadata": {
        "id": "JGlCgAygLtuQ"
      },
      "execution_count": null,
      "outputs": []
    },
    {
      "cell_type": "markdown",
      "source": [
        "## Data Drift Profile"
      ],
      "metadata": {
        "id": "S9xwhGKfLSU4"
      }
    },
    {
      "cell_type": "code",
      "source": [
        "bcancer_target_drift_profile = Profile(sections=[DataDriftProfileSection()])\n",
        "bcancer_target_drift_profile.calculate(merged_train_data, merged_test_data, column_mapping = bcancer_column_mapping) \n",
        "bcancer_target_drift_profile.json()"
      ],
      "metadata": {
        "id": "43hFcDwiLWih"
      },
      "execution_count": null,
      "outputs": []
    },
    {
      "cell_type": "markdown",
      "source": [
        "## Target and Data Drift Profile"
      ],
      "metadata": {
        "id": "EOGJ0SAPLZ5S"
      }
    },
    {
      "cell_type": "code",
      "source": [
        "bcancer_target_drift_profile = Profile(sections=[CatTargetDriftProfileSection(), DataDriftProfileSection()])\n",
        "bcancer_target_drift_profile.calculate(merged_train_data, merged_test_data, column_mapping = bcancer_column_mapping) \n",
        "bcancer_target_drift_profile.json()"
      ],
      "metadata": {
        "id": "CInpDJagLdmJ"
      },
      "execution_count": null,
      "outputs": []
    }
  ]
}